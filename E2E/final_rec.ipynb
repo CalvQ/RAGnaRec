{
 "cells": [
  {
   "cell_type": "code",
   "execution_count": 2,
   "metadata": {},
   "outputs": [],
   "source": [
    "from clustering_model import ClusteringModel\n",
    "from NER import NER\n",
    "from rag import RAGPipeline"
   ]
  },
  {
   "cell_type": "code",
   "execution_count": null,
   "metadata": {},
   "outputs": [],
   "source": [
    "# component initialization\n",
    "\n",
    "ner_tagger = NER()\n",
    "clustering_model = ClusteringModel()\n",
    "rag_pipeline = RAGPipeline()"
   ]
  },
  {
   "cell_type": "markdown",
   "metadata": {},
   "source": [
    "### Part 1 : Input Review"
   ]
  },
  {
   "cell_type": "code",
   "execution_count": 3,
   "metadata": {},
   "outputs": [
    {
     "data": {
      "text/plain": [
       "'There is truly something for everyone at Carnegie Mellon University. The diversity of opportunities allows students to explore new fields and nurture their existing interests at an elite level. I really enjoy the variety in what I can choose to pursue at CMU.'"
      ]
     },
     "execution_count": 3,
     "metadata": {},
     "output_type": "execute_result"
    }
   ],
   "source": [
    "review = input(\"Enter Your Review: \")\n",
    "review"
   ]
  },
  {
   "cell_type": "markdown",
   "metadata": {},
   "source": [
    "### Part 2 : Fetch Corresponding Cluster File from Input"
   ]
  },
  {
   "cell_type": "code",
   "execution_count": 8,
   "metadata": {},
   "outputs": [
    {
     "data": {
      "text/html": [
       "<div>\n",
       "<style scoped>\n",
       "    .dataframe tbody tr th:only-of-type {\n",
       "        vertical-align: middle;\n",
       "    }\n",
       "\n",
       "    .dataframe tbody tr th {\n",
       "        vertical-align: top;\n",
       "    }\n",
       "\n",
       "    .dataframe thead th {\n",
       "        text-align: right;\n",
       "    }\n",
       "</style>\n",
       "<table border=\"1\" class=\"dataframe\">\n",
       "  <thead>\n",
       "    <tr style=\"text-align: right;\">\n",
       "      <th></th>\n",
       "      <th>idx</th>\n",
       "      <th>tokens</th>\n",
       "      <th>text</th>\n",
       "      <th>sentiment</th>\n",
       "      <th>confidence</th>\n",
       "    </tr>\n",
       "  </thead>\n",
       "  <tbody>\n",
       "    <tr>\n",
       "      <th>0</th>\n",
       "      <td>285347</td>\n",
       "      <td>['fairytale', 'brownie', 'show', 'taste', '&lt;pe...</td>\n",
       "      <td>Fairytale Brownies (NY Chocolate Show) - Too c...</td>\n",
       "      <td>1.0</td>\n",
       "      <td>0.788813</td>\n",
       "    </tr>\n",
       "    <tr>\n",
       "      <th>1</th>\n",
       "      <td>285352</td>\n",
       "      <td>['large', 'box', 'delicious', 'brownie', 'husb...</td>\n",
       "      <td>We received a large box of these DELICIOUS bro...</td>\n",
       "      <td>1.0</td>\n",
       "      <td>0.999481</td>\n",
       "    </tr>\n",
       "    <tr>\n",
       "      <th>2</th>\n",
       "      <td>285359</td>\n",
       "      <td>['box', 'brownie', 'liver', 'transplant', 'loy...</td>\n",
       "      <td>I received a box of brownies while recovering ...</td>\n",
       "      <td>1.0</td>\n",
       "      <td>0.848248</td>\n",
       "    </tr>\n",
       "    <tr>\n",
       "      <th>3</th>\n",
       "      <td>285361</td>\n",
       "      <td>['small', 'bite', 'long', 'way', 'brownie', '0...</td>\n",
       "      <td>A small bite goes a long way. I first was intr...</td>\n",
       "      <td>1.0</td>\n",
       "      <td>0.975905</td>\n",
       "    </tr>\n",
       "    <tr>\n",
       "      <th>4</th>\n",
       "      <td>285368</td>\n",
       "      <td>['previous', 'review', 'sale', 'couple', 'diff...</td>\n",
       "      <td>MMM!!!\\n\\nOk, so after I wrote my previous rev...</td>\n",
       "      <td>1.0</td>\n",
       "      <td>0.999615</td>\n",
       "    </tr>\n",
       "    <tr>\n",
       "      <th>5</th>\n",
       "      <td>285370</td>\n",
       "      <td>['brownie', 'best', 'thing', 'gift', 'box', 't...</td>\n",
       "      <td>First off the brownies are the best thing ever...</td>\n",
       "      <td>1.0</td>\n",
       "      <td>0.999425</td>\n",
       "    </tr>\n",
       "    <tr>\n",
       "      <th>6</th>\n",
       "      <td>460385</td>\n",
       "      <td>['order', 'brownie', 'dark', 'chocolate', 'ras...</td>\n",
       "      <td>My order: brownie &amp; dark chocolate raspberry m...</td>\n",
       "      <td>1.0</td>\n",
       "      <td>0.974430</td>\n",
       "    </tr>\n",
       "    <tr>\n",
       "      <th>7</th>\n",
       "      <td>636884</td>\n",
       "      <td>['hmm', 'first', '&lt;product&gt;', '&lt;gpe&gt;', 'happy'...</td>\n",
       "      <td>Hmm... when I had my first Sprinkles in L.A., ...</td>\n",
       "      <td>1.0</td>\n",
       "      <td>0.999541</td>\n",
       "    </tr>\n",
       "    <tr>\n",
       "      <th>8</th>\n",
       "      <td>642522</td>\n",
       "      <td>['great', 'addition', 'highlight', '&lt;org&gt;', 'b...</td>\n",
       "      <td>Great addition to NYNY. Highlights: \\n-Customi...</td>\n",
       "      <td>1.0</td>\n",
       "      <td>0.996290</td>\n",
       "    </tr>\n",
       "    <tr>\n",
       "      <th>9</th>\n",
       "      <td>685427</td>\n",
       "      <td>['disappointing', 'experience', 'red', 'velvet...</td>\n",
       "      <td>Very disappointing experience.  I went in look...</td>\n",
       "      <td>0.0</td>\n",
       "      <td>0.990320</td>\n",
       "    </tr>\n",
       "  </tbody>\n",
       "</table>\n",
       "</div>"
      ],
      "text/plain": [
       "      idx                                             tokens  \\\n",
       "0  285347  ['fairytale', 'brownie', 'show', 'taste', '<pe...   \n",
       "1  285352  ['large', 'box', 'delicious', 'brownie', 'husb...   \n",
       "2  285359  ['box', 'brownie', 'liver', 'transplant', 'loy...   \n",
       "3  285361  ['small', 'bite', 'long', 'way', 'brownie', '0...   \n",
       "4  285368  ['previous', 'review', 'sale', 'couple', 'diff...   \n",
       "5  285370  ['brownie', 'best', 'thing', 'gift', 'box', 't...   \n",
       "6  460385  ['order', 'brownie', 'dark', 'chocolate', 'ras...   \n",
       "7  636884  ['hmm', 'first', '<product>', '<gpe>', 'happy'...   \n",
       "8  642522  ['great', 'addition', 'highlight', '<org>', 'b...   \n",
       "9  685427  ['disappointing', 'experience', 'red', 'velvet...   \n",
       "\n",
       "                                                text  sentiment  confidence  \n",
       "0  Fairytale Brownies (NY Chocolate Show) - Too c...        1.0    0.788813  \n",
       "1  We received a large box of these DELICIOUS bro...        1.0    0.999481  \n",
       "2  I received a box of brownies while recovering ...        1.0    0.848248  \n",
       "3  A small bite goes a long way. I first was intr...        1.0    0.975905  \n",
       "4  MMM!!!\\n\\nOk, so after I wrote my previous rev...        1.0    0.999615  \n",
       "5  First off the brownies are the best thing ever...        1.0    0.999425  \n",
       "6  My order: brownie & dark chocolate raspberry m...        1.0    0.974430  \n",
       "7  Hmm... when I had my first Sprinkles in L.A., ...        1.0    0.999541  \n",
       "8  Great addition to NYNY. Highlights: \\n-Customi...        1.0    0.996290  \n",
       "9  Very disappointing experience.  I went in look...        0.0    0.990320  "
      ]
     },
     "execution_count": 8,
     "metadata": {},
     "output_type": "execute_result"
    }
   ],
   "source": [
    "tagged_review = ner_tagger.preprocess_review(review)\n",
    "topic = clustering_model.assign_topic(tagged_review)\n",
    "related_reviews = clustering_model.fetch_cluster(topic)\n",
    "\n",
    "related_reviews.head(20)"
   ]
  },
  {
   "cell_type": "markdown",
   "metadata": {},
   "source": [
    "### Part 3: Retrieving from Cluster DataFrame"
   ]
  },
  {
   "cell_type": "code",
   "execution_count": 7,
   "metadata": {},
   "outputs": [
    {
     "name": "stderr",
     "output_type": "stream",
     "text": [
      "/home/calvq/git/RAGnaRec/E2E/retrieval.py:27: LangChainDeprecationWarning: The class `HuggingFaceEmbeddings` was deprecated in LangChain 0.2.2 and will be removed in 1.0. An updated version of the class exists in the :class:`~langchain-huggingface package and should be used instead. To use it run `pip install -U :class:`~langchain-huggingface` and import as `from :class:`~langchain_huggingface import HuggingFaceEmbeddings``.\n",
      "  embeddings = HuggingFaceEmbeddings(model_name = embedding_model)\n",
      "/home/calvq/git/RAGnaRec/E2E/generator.py:74: LangChainDeprecationWarning: The method `BaseRetriever.get_relevant_documents` was deprecated in langchain-core 0.1.46 and will be removed in 1.0. Use :meth:`~invoke` instead.\n",
      "  retrieved_docs = retriever.get_relevant_documents(user_review)\n",
      "The 'batch_size' attribute of HybridCache is deprecated and will be removed in v4.49. Use the more precisely named 'self.max_batch_size' attribute instead.\n"
     ]
    },
    {
     "data": {
      "text/plain": [
       "\"Based on your review, it sounds like you're looking for places that offer a diverse range of opportunities and experiences, similar to Carnegie Mellon University. \\n\\nHere are a few recommendations that align with your sentiment:\\n\\n* **The New York Academy of Sciences:** This institution offers a wide range of educational programs and exhibits, covering topics from science and technology to art and culture.  \\n* **The Museum of Modern Art (MoMA):** MoMA is renowned for its impressive collection of modern and contemporary art, offering a stimulating and thought-provoking experience. \\n* **The American Museum of Natural History:** This museum is a treasure trove of natural history exhibits, from dinosaurs to the human body, providing a fascinating journey through the world of science and nature. \\n\\n\\nLet me know if you'd like more suggestions!\""
      ]
     },
     "execution_count": 7,
     "metadata": {},
     "output_type": "execute_result"
    }
   ],
   "source": [
    "rag_pipeline.generate_review(review, related_reviews)"
   ]
  },
  {
   "cell_type": "code",
   "execution_count": null,
   "metadata": {},
   "outputs": [],
   "source": []
  }
 ],
 "metadata": {
  "kernelspec": {
   "display_name": "10701-env",
   "language": "python",
   "name": "python3"
  },
  "language_info": {
   "codemirror_mode": {
    "name": "ipython",
    "version": 3
   },
   "file_extension": ".py",
   "mimetype": "text/x-python",
   "name": "python",
   "nbconvert_exporter": "python",
   "pygments_lexer": "ipython3",
   "version": "3.10.15"
  }
 },
 "nbformat": 4,
 "nbformat_minor": 2
}
