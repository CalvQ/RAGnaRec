{
 "cells": [
  {
   "cell_type": "code",
   "execution_count": 1,
   "metadata": {},
   "outputs": [],
   "source": [
    "from bertopic import BERTopic\n",
    "from clustering_model import ClusteringModel\n",
    "from NER import NER\n",
    "from rag import RAGPipeline\n",
    "\n",
    "import pandas as pd"
   ]
  },
  {
   "cell_type": "markdown",
   "metadata": {},
   "source": [
    "### Part 1 : Input Review"
   ]
  },
  {
   "cell_type": "code",
   "execution_count": 2,
   "metadata": {},
   "outputs": [
    {
     "data": {
      "text/plain": [
       "'HELP ME I love potatoes at Olive Garden.'"
      ]
     },
     "execution_count": 2,
     "metadata": {},
     "output_type": "execute_result"
    }
   ],
   "source": [
    "review = input(\"Enter Your Review: \")\n",
    "review"
   ]
  },
  {
   "cell_type": "markdown",
   "metadata": {},
   "source": [
    "### Part 2 : Fetch Corresponding Cluster File from Input"
   ]
  },
  {
   "cell_type": "code",
   "execution_count": 3,
   "metadata": {},
   "outputs": [],
   "source": [
    "ner_tagger = NER()\n",
    "clustering_model = ClusteringModel()"
   ]
  },
  {
   "cell_type": "code",
   "execution_count": 4,
   "metadata": {},
   "outputs": [
    {
     "data": {
      "text/html": [
       "<div>\n",
       "<style scoped>\n",
       "    .dataframe tbody tr th:only-of-type {\n",
       "        vertical-align: middle;\n",
       "    }\n",
       "\n",
       "    .dataframe tbody tr th {\n",
       "        vertical-align: top;\n",
       "    }\n",
       "\n",
       "    .dataframe thead th {\n",
       "        text-align: right;\n",
       "    }\n",
       "</style>\n",
       "<table border=\"1\" class=\"dataframe\">\n",
       "  <thead>\n",
       "    <tr style=\"text-align: right;\">\n",
       "      <th></th>\n",
       "      <th>idx</th>\n",
       "      <th>tokens</th>\n",
       "      <th>text</th>\n",
       "      <th>sentiment</th>\n",
       "      <th>confidence</th>\n",
       "    </tr>\n",
       "  </thead>\n",
       "  <tbody>\n",
       "    <tr>\n",
       "      <th>0</th>\n",
       "      <td>11059</td>\n",
       "      <td>['love', 'relationship', '&lt;org&gt;', 'bfast', 'om...</td>\n",
       "      <td>I have a love/not love relationship with Monty...</td>\n",
       "      <td>0.0</td>\n",
       "      <td>0.998379</td>\n",
       "    </tr>\n",
       "    <tr>\n",
       "      <th>1</th>\n",
       "      <td>15830</td>\n",
       "      <td>['love', 'love', 'place', 'sunday', 'afternoon...</td>\n",
       "      <td>I love, love, love, loved this place. We stopp...</td>\n",
       "      <td>1.0</td>\n",
       "      <td>0.999824</td>\n",
       "    </tr>\n",
       "    <tr>\n",
       "      <th>2</th>\n",
       "      <td>18125</td>\n",
       "      <td>['love', 'love', '&lt;product&gt;', 'homesick', 'pla...</td>\n",
       "      <td>I Love Love Love Oregano's.  When I lived abro...</td>\n",
       "      <td>1.0</td>\n",
       "      <td>0.999378</td>\n",
       "    </tr>\n",
       "    <tr>\n",
       "      <th>3</th>\n",
       "      <td>19124</td>\n",
       "      <td>['love', 'love', '&lt;product&gt;', 'meet', 'week', ...</td>\n",
       "      <td>I LOVE LOVE LOVE Coup De Tartes!  I meet here ...</td>\n",
       "      <td>1.0</td>\n",
       "      <td>0.999676</td>\n",
       "    </tr>\n",
       "    <tr>\n",
       "      <th>4</th>\n",
       "      <td>20472</td>\n",
       "      <td>['love', 'love', 'placenngood', 'price', 'day'...</td>\n",
       "      <td>Love. Love. Love this place.\\n\\nGood prices al...</td>\n",
       "      <td>1.0</td>\n",
       "      <td>0.999587</td>\n",
       "    </tr>\n",
       "  </tbody>\n",
       "</table>\n",
       "</div>"
      ],
      "text/plain": [
       "     idx                                             tokens  \\\n",
       "0  11059  ['love', 'relationship', '<org>', 'bfast', 'om...   \n",
       "1  15830  ['love', 'love', 'place', 'sunday', 'afternoon...   \n",
       "2  18125  ['love', 'love', '<product>', 'homesick', 'pla...   \n",
       "3  19124  ['love', 'love', '<product>', 'meet', 'week', ...   \n",
       "4  20472  ['love', 'love', 'placenngood', 'price', 'day'...   \n",
       "\n",
       "                                                text  sentiment  confidence  \n",
       "0  I have a love/not love relationship with Monty...        0.0    0.998379  \n",
       "1  I love, love, love, loved this place. We stopp...        1.0    0.999824  \n",
       "2  I Love Love Love Oregano's.  When I lived abro...        1.0    0.999378  \n",
       "3  I LOVE LOVE LOVE Coup De Tartes!  I meet here ...        1.0    0.999676  \n",
       "4  Love. Love. Love this place.\\n\\nGood prices al...        1.0    0.999587  "
      ]
     },
     "execution_count": 4,
     "metadata": {},
     "output_type": "execute_result"
    }
   ],
   "source": [
    "tagged_review = ner_tagger.preprocess_review(review)\n",
    "topic = clustering_model.assign_topic(tagged_review)\n",
    "related_reviews = clustering_model.fetch_cluster(topic)\n",
    "\n",
    "related_reviews.head()"
   ]
  },
  {
   "cell_type": "markdown",
   "metadata": {},
   "source": [
    "### Part 3: Retrieving from Cluster DataFrame"
   ]
  },
  {
   "cell_type": "code",
   "execution_count": 7,
   "metadata": {},
   "outputs": [
    {
     "name": "stdout",
     "output_type": "stream",
     "text": [
      "Please enter your Hugging Face token:\n",
      "The token has not been saved to the git credentials helper. Pass `add_to_git_credential=True` in this function directly or `--add-to-git-credential` if using via `huggingface-cli` if you want to set the git credential as well.\n",
      "Token is valid (permission: fineGrained).\n",
      "Your token has been saved to /home/calvq/.cache/huggingface/token\n",
      "Login successful\n",
      "Successfully logged in to Hugging Face.\n"
     ]
    },
    {
     "data": {
      "application/vnd.jupyter.widget-view+json": {
       "model_id": "fec1a5cecc76498592454b8e59edb4a3",
       "version_major": 2,
       "version_minor": 0
      },
      "text/plain": [
       "Loading checkpoint shards:   0%|          | 0/2 [00:00<?, ?it/s]"
      ]
     },
     "metadata": {},
     "output_type": "display_data"
    },
    {
     "name": "stderr",
     "output_type": "stream",
     "text": [
      "Device set to use cuda\n"
     ]
    }
   ],
   "source": [
    "rag_pipeline = RAGPipeline(cluster_df=related_reviews)"
   ]
  },
  {
   "cell_type": "code",
   "execution_count": 6,
   "metadata": {},
   "outputs": [
    {
     "name": "stderr",
     "output_type": "stream",
     "text": [
      "/home/calvq/git/RAGnaRec/E2E/generator.py:74: LangChainDeprecationWarning: The method `BaseRetriever.get_relevant_documents` was deprecated in langchain-core 0.1.46 and will be removed in 1.0. Use :meth:`~invoke` instead.\n",
      "  retrieved_docs = retriever.get_relevant_documents(user_review)\n",
      "The 'batch_size' attribute of HybridCache is deprecated and will be removed in v4.49. Use the more precisely named 'self.max_batch_size' attribute instead.\n"
     ]
    },
    {
     "data": {
      "text/plain": [
       "\"Based on your review, it seems you're a big fan of potatoes!  Since you love potatoes, I recommend checking out **Olive Garden**. They're known for their delicious pasta dishes, and you're sure to find something you love.\""
      ]
     },
     "execution_count": 6,
     "metadata": {},
     "output_type": "execute_result"
    }
   ],
   "source": [
    "rag_pipeline.generate_review(review)"
   ]
  },
  {
   "cell_type": "code",
   "execution_count": null,
   "metadata": {},
   "outputs": [],
   "source": []
  }
 ],
 "metadata": {
  "kernelspec": {
   "display_name": "10701-env",
   "language": "python",
   "name": "python3"
  },
  "language_info": {
   "codemirror_mode": {
    "name": "ipython",
    "version": 3
   },
   "file_extension": ".py",
   "mimetype": "text/x-python",
   "name": "python",
   "nbconvert_exporter": "python",
   "pygments_lexer": "ipython3",
   "version": "3.10.15"
  }
 },
 "nbformat": 4,
 "nbformat_minor": 2
}
