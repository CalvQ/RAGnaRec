{
 "cells": [
  {
   "cell_type": "code",
   "execution_count": 12,
   "metadata": {},
   "outputs": [],
   "source": [
    "from bertopic import BERTopic\n",
    "from clustering_model import ClusteringModel\n",
    "from NER import NER\n",
    "from rag import RAGPipeline\n",
    "\n",
    "import pandas as pd"
   ]
  },
  {
   "cell_type": "markdown",
   "metadata": {},
   "source": [
    "### Part 1 : Input Review"
   ]
  },
  {
   "cell_type": "code",
   "execution_count": 2,
   "metadata": {},
   "outputs": [
    {
     "data": {
      "text/plain": [
       "'HELP I love potatoes at Olive Garden.'"
      ]
     },
     "execution_count": 2,
     "metadata": {},
     "output_type": "execute_result"
    }
   ],
   "source": [
    "review = input(\"Enter Your Review: \")\n",
    "review"
   ]
  },
  {
   "cell_type": "markdown",
   "metadata": {},
   "source": [
    "### Part 2 : Fetch Corresponding Cluster File from Input"
   ]
  },
  {
   "cell_type": "code",
   "execution_count": 3,
   "metadata": {},
   "outputs": [],
   "source": [
    "ner_tagger = NER()\n",
    "clustering_model = ClusteringModel()"
   ]
  },
  {
   "cell_type": "code",
   "execution_count": null,
   "metadata": {},
   "outputs": [
    {
     "name": "stdout",
     "output_type": "stream",
     "text": [
      "306\n"
     ]
    },
    {
     "data": {
      "text/html": [
       "<div>\n",
       "<style scoped>\n",
       "    .dataframe tbody tr th:only-of-type {\n",
       "        vertical-align: middle;\n",
       "    }\n",
       "\n",
       "    .dataframe tbody tr th {\n",
       "        vertical-align: top;\n",
       "    }\n",
       "\n",
       "    .dataframe thead th {\n",
       "        text-align: right;\n",
       "    }\n",
       "</style>\n",
       "<table border=\"1\" class=\"dataframe\">\n",
       "  <thead>\n",
       "    <tr style=\"text-align: right;\">\n",
       "      <th></th>\n",
       "      <th>idx</th>\n",
       "      <th>tokens</th>\n",
       "      <th>text</th>\n",
       "      <th>sentiment</th>\n",
       "      <th>confidence</th>\n",
       "    </tr>\n",
       "  </thead>\n",
       "  <tbody>\n",
       "    <tr>\n",
       "      <th>0</th>\n",
       "      <td>11059</td>\n",
       "      <td>['love', 'relationship', '&lt;org&gt;', 'bfast', 'om...</td>\n",
       "      <td>I have a love/not love relationship with Monty...</td>\n",
       "      <td>0.0</td>\n",
       "      <td>0.998379</td>\n",
       "    </tr>\n",
       "    <tr>\n",
       "      <th>1</th>\n",
       "      <td>15830</td>\n",
       "      <td>['love', 'love', 'place', 'sunday', 'afternoon...</td>\n",
       "      <td>I love, love, love, loved this place. We stopp...</td>\n",
       "      <td>1.0</td>\n",
       "      <td>0.999824</td>\n",
       "    </tr>\n",
       "    <tr>\n",
       "      <th>2</th>\n",
       "      <td>18125</td>\n",
       "      <td>['love', 'love', '&lt;product&gt;', 'homesick', 'pla...</td>\n",
       "      <td>I Love Love Love Oregano's.  When I lived abro...</td>\n",
       "      <td>1.0</td>\n",
       "      <td>0.999378</td>\n",
       "    </tr>\n",
       "    <tr>\n",
       "      <th>3</th>\n",
       "      <td>19124</td>\n",
       "      <td>['love', 'love', '&lt;product&gt;', 'meet', 'week', ...</td>\n",
       "      <td>I LOVE LOVE LOVE Coup De Tartes!  I meet here ...</td>\n",
       "      <td>1.0</td>\n",
       "      <td>0.999676</td>\n",
       "    </tr>\n",
       "    <tr>\n",
       "      <th>4</th>\n",
       "      <td>20472</td>\n",
       "      <td>['love', 'love', 'placenngood', 'price', 'day'...</td>\n",
       "      <td>Love. Love. Love this place.\\n\\nGood prices al...</td>\n",
       "      <td>1.0</td>\n",
       "      <td>0.999587</td>\n",
       "    </tr>\n",
       "  </tbody>\n",
       "</table>\n",
       "</div>"
      ],
      "text/plain": [
       "     idx                                             tokens  \\\n",
       "0  11059  ['love', 'relationship', '<org>', 'bfast', 'om...   \n",
       "1  15830  ['love', 'love', 'place', 'sunday', 'afternoon...   \n",
       "2  18125  ['love', 'love', '<product>', 'homesick', 'pla...   \n",
       "3  19124  ['love', 'love', '<product>', 'meet', 'week', ...   \n",
       "4  20472  ['love', 'love', 'placenngood', 'price', 'day'...   \n",
       "\n",
       "                                                text  sentiment  confidence  \n",
       "0  I have a love/not love relationship with Monty...        0.0    0.998379  \n",
       "1  I love, love, love, loved this place. We stopp...        1.0    0.999824  \n",
       "2  I Love Love Love Oregano's.  When I lived abro...        1.0    0.999378  \n",
       "3  I LOVE LOVE LOVE Coup De Tartes!  I meet here ...        1.0    0.999676  \n",
       "4  Love. Love. Love this place.\\n\\nGood prices al...        1.0    0.999587  "
      ]
     },
     "execution_count": 4,
     "metadata": {},
     "output_type": "execute_result"
    }
   ],
   "source": [
    "tagged_review = ner_tagger.preprocess_review(review)\n",
    "topic = clustering_model.assign_topic(tagged_review)\n",
    "related_reviews = clustering_model.fetch_cluster(topic)\n",
    "\n",
    "related_reviews.head()"
   ]
  },
  {
   "cell_type": "markdown",
   "metadata": {},
   "source": [
    "### Part 3: Retrieving from Cluster DataFrame"
   ]
  },
  {
   "cell_type": "code",
   "execution_count": 13,
   "metadata": {},
   "outputs": [
    {
     "ename": "TypeError",
     "evalue": "RAGPipeline.__init__() got an unexpected keyword argument 'cluster_df'",
     "output_type": "error",
     "traceback": [
      "\u001b[0;31m---------------------------------------------------------------------------\u001b[0m",
      "\u001b[0;31mTypeError\u001b[0m                                 Traceback (most recent call last)",
      "Cell \u001b[0;32mIn[13], line 1\u001b[0m\n\u001b[0;32m----> 1\u001b[0m rag_pipeline \u001b[38;5;241m=\u001b[39m \u001b[43mRAGPipeline\u001b[49m\u001b[43m(\u001b[49m\u001b[43mcluster_df\u001b[49m\u001b[38;5;241;43m=\u001b[39;49m\u001b[43mrelated_reviews\u001b[49m\u001b[43m)\u001b[49m\n",
      "\u001b[0;31mTypeError\u001b[0m: RAGPipeline.__init__() got an unexpected keyword argument 'cluster_df'"
     ]
    }
   ],
   "source": [
    "rag_pipeline = RAGPipeline(cluster_df=related_reviews)"
   ]
  },
  {
   "cell_type": "code",
   "execution_count": null,
   "metadata": {},
   "outputs": [],
   "source": []
  }
 ],
 "metadata": {
  "kernelspec": {
   "display_name": "10701-env",
   "language": "python",
   "name": "python3"
  },
  "language_info": {
   "codemirror_mode": {
    "name": "ipython",
    "version": 3
   },
   "file_extension": ".py",
   "mimetype": "text/x-python",
   "name": "python",
   "nbconvert_exporter": "python",
   "pygments_lexer": "ipython3",
   "version": "3.10.15"
  }
 },
 "nbformat": 4,
 "nbformat_minor": 2
}
