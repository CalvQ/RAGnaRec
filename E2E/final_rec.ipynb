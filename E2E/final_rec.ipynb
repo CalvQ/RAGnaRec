{
 "cells": [
  {
   "cell_type": "code",
   "execution_count": 15,
   "metadata": {},
   "outputs": [],
   "source": [
    "from bertopic import BERTopic\n",
    "import json"
   ]
  },
  {
   "cell_type": "markdown",
   "metadata": {},
   "source": [
    "### Part 1 : get the user review"
   ]
  },
  {
   "cell_type": "code",
   "execution_count": 11,
   "metadata": {},
   "outputs": [],
   "source": [
    "review = input(\"Enter Your Review: \")\n"
   ]
  },
  {
   "cell_type": "code",
   "execution_count": 12,
   "metadata": {},
   "outputs": [
    {
     "data": {
      "text/plain": [
       "'This place was really good'"
      ]
     },
     "execution_count": 12,
     "metadata": {},
     "output_type": "execute_result"
    }
   ],
   "source": [
    "review"
   ]
  },
  {
   "cell_type": "markdown",
   "metadata": {},
   "source": [
    "### Part 2 : assign the input review to its perspective topic"
   ]
  },
  {
   "cell_type": "code",
   "execution_count": 9,
   "metadata": {},
   "outputs": [],
   "source": [
    "topic_model = BERTopic.load(\"../E2E\")"
   ]
  },
  {
   "cell_type": "code",
   "execution_count": 14,
   "metadata": {},
   "outputs": [
    {
     "data": {
      "text/plain": [
       "{'topic': 53,\n",
       " 'probability': 0.46591926,\n",
       " 'keywords': [['patio', 0.06325277852364106],\n",
       "  ['great', 0.054883589213249415],\n",
       "  ['watch', 0.04439421277149858],\n",
       "  ['atmosphere', 0.04345530385065133],\n",
       "  ['awesome', 0.04086228417232557],\n",
       "  ['outdoor', 0.039213487295598454],\n",
       "  ['strip', 0.03709210846493576],\n",
       "  ['food', 0.036846472376534885],\n",
       "  ['5nni', 0.028639734981093463],\n",
       "  ['crapesnnthe', 0.028639734981093463]]}"
      ]
     },
     "execution_count": 14,
     "metadata": {},
     "output_type": "execute_result"
    }
   ],
   "source": [
    "def assign_topic(review, topic_model):\n",
    "    topics, probabilities = topic_model.transform([review])\n",
    "    return {\n",
    "        'topic': topics[0],\n",
    "        'probability': probabilities[0],\n",
    "        'keywords': topic_model.get_topic(topics[0]) if topics[0] != -1 else None\n",
    "    }\n",
    "\n",
    "assign_topic(review, topic_model)"
   ]
  },
  {
   "cell_type": "markdown",
   "metadata": {},
   "source": [
    "### if uncluster, go through a word search"
   ]
  },
  {
   "cell_type": "code",
   "execution_count": 29,
   "metadata": {},
   "outputs": [],
   "source": [
    "def find_topic(review, topics_file_path='topics.json'):\n",
    "    # Load topics dictionary\n",
    "    with open(topics_file_path, 'r') as f:\n",
    "        topics_dict = json.load(f)\n",
    "    \n",
    "    topics_dict = topics_dict['topic_representations']\n",
    "\n",
    "    # Convert review text to lowercase and split into words\n",
    "    review_words = set(review.lower().split())\n",
    "    \n",
    "    max_probability = 0\n",
    "    best_topic = None\n",
    "    best_word = None\n",
    "    best_prob = 0\n",
    "    \n",
    "    # For each topic and its list of [word, probability] pairs\n",
    "    for topic_id, word_pairs in topics_dict.items():\n",
    "        # Extract words and probabilities for this topic\n",
    "        for word, prob in word_pairs:\n",
    "            if word.lower() in review_words and prob > max_probability:\n",
    "                max_probability = prob\n",
    "                best_topic = int(topic_id)\n",
    "                best_word = word\n",
    "                best_prob = prob\n",
    "    \n",
    "    if best_topic is not None:\n",
    "        return best_topic, (best_word, best_prob)\n",
    "    return -1, None\n"
   ]
  },
  {
   "cell_type": "code",
   "execution_count": 30,
   "metadata": {},
   "outputs": [
    {
     "data": {
      "text/plain": [
       "(45, ('good', 0.02184992975807817))"
      ]
     },
     "execution_count": 30,
     "metadata": {},
     "output_type": "execute_result"
    }
   ],
   "source": [
    "find_topic(review)"
   ]
  }
 ],
 "metadata": {
  "kernelspec": {
   "display_name": "ragnarec",
   "language": "python",
   "name": "python3"
  },
  "language_info": {
   "codemirror_mode": {
    "name": "ipython",
    "version": 3
   },
   "file_extension": ".py",
   "mimetype": "text/x-python",
   "name": "python",
   "nbconvert_exporter": "python",
   "pygments_lexer": "ipython3",
   "version": "3.10.15"
  }
 },
 "nbformat": 4,
 "nbformat_minor": 2
}
