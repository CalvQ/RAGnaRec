{
 "cells": [
  {
   "cell_type": "code",
   "execution_count": 1,
   "metadata": {},
   "outputs": [],
   "source": [
    "from clustering_model import ClusteringModel\n",
    "from NER import NER\n",
    "from rag import RAGPipeline"
   ]
  },
  {
   "cell_type": "code",
   "execution_count": 2,
   "metadata": {},
   "outputs": [
    {
     "name": "stdout",
     "output_type": "stream",
     "text": [
      "Please enter your Hugging Face token:\n",
      "The token has not been saved to the git credentials helper. Pass `add_to_git_credential=True` in this function directly or `--add-to-git-credential` if using via `huggingface-cli` if you want to set the git credential as well.\n",
      "Token is valid (permission: fineGrained).\n",
      "Your token has been saved to /home/calvq/.cache/huggingface/token\n",
      "Login successful\n",
      "Successfully logged in to Hugging Face.\n"
     ]
    },
    {
     "data": {
      "application/vnd.jupyter.widget-view+json": {
       "model_id": "359623ad714b4d0abca82ca739886b84",
       "version_major": 2,
       "version_minor": 0
      },
      "text/plain": [
       "Loading checkpoint shards:   0%|          | 0/2 [00:00<?, ?it/s]"
      ]
     },
     "metadata": {},
     "output_type": "display_data"
    },
    {
     "name": "stderr",
     "output_type": "stream",
     "text": [
      "Device set to use cuda\n",
      "Device set to use cuda\n"
     ]
    }
   ],
   "source": [
    "# component initialization\n",
    "\n",
    "ner_tagger = NER()\n",
    "clustering_model = ClusteringModel()\n",
    "rag_pipeline = RAGPipeline()"
   ]
  },
  {
   "cell_type": "markdown",
   "metadata": {},
   "source": [
    "### Part 1 : Input Review"
   ]
  },
  {
   "cell_type": "code",
   "execution_count": 15,
   "metadata": {},
   "outputs": [
    {
     "data": {
      "text/plain": [
       "'The home cleaning service from Sparkle Shine was unreliable and didn’t clean thoroughly. Where else should I steer clear of?'"
      ]
     },
     "execution_count": 15,
     "metadata": {},
     "output_type": "execute_result"
    }
   ],
   "source": [
    "review = input(\"Enter Your Review: \")\n",
    "review"
   ]
  },
  {
   "cell_type": "markdown",
   "metadata": {},
   "source": [
    "### Part 2 : Fetch Corresponding Cluster File from Input"
   ]
  },
  {
   "cell_type": "code",
   "execution_count": null,
   "metadata": {},
   "outputs": [
    {
     "data": {
      "text/html": [
       "<div>\n",
       "<style scoped>\n",
       "    .dataframe tbody tr th:only-of-type {\n",
       "        vertical-align: middle;\n",
       "    }\n",
       "\n",
       "    .dataframe tbody tr th {\n",
       "        vertical-align: top;\n",
       "    }\n",
       "\n",
       "    .dataframe thead th {\n",
       "        text-align: right;\n",
       "    }\n",
       "</style>\n",
       "<table border=\"1\" class=\"dataframe\">\n",
       "  <thead>\n",
       "    <tr style=\"text-align: right;\">\n",
       "      <th></th>\n",
       "      <th>idx</th>\n",
       "      <th>tokens</th>\n",
       "      <th>text</th>\n",
       "      <th>sentiment</th>\n",
       "      <th>confidence</th>\n",
       "    </tr>\n",
       "  </thead>\n",
       "  <tbody>\n",
       "    <tr>\n",
       "      <th>0</th>\n",
       "      <td>13195</td>\n",
       "      <td>['weekly', 'biweekly', 'basis', 'year', 'pleas...</td>\n",
       "      <td>I have had Maid to Perfecting coming on a week...</td>\n",
       "      <td>1.0</td>\n",
       "      <td>0.999555</td>\n",
       "    </tr>\n",
       "    <tr>\n",
       "      <th>1</th>\n",
       "      <td>27813</td>\n",
       "      <td>['&lt;person&gt;', 'come', 'common', 'room', 'house'...</td>\n",
       "      <td>We had the Maids come in and do the common roo...</td>\n",
       "      <td>1.0</td>\n",
       "      <td>0.999394</td>\n",
       "    </tr>\n",
       "    <tr>\n",
       "      <th>2</th>\n",
       "      <td>108381</td>\n",
       "      <td>['two', 'home', '&lt;person&gt;', 'first', 'house', ...</td>\n",
       "      <td>Had two homes \\\"cleaned\\\" by Molly Maids- if y...</td>\n",
       "      <td>0.0</td>\n",
       "      <td>0.999292</td>\n",
       "    </tr>\n",
       "    <tr>\n",
       "      <th>3</th>\n",
       "      <td>240408</td>\n",
       "      <td>['cleaning', 'authority', 'ideal', 'home', '&lt;o...</td>\n",
       "      <td>The cleaning authority has no ideal what clean...</td>\n",
       "      <td>0.0</td>\n",
       "      <td>0.999751</td>\n",
       "    </tr>\n",
       "    <tr>\n",
       "      <th>4</th>\n",
       "      <td>252126</td>\n",
       "      <td>['ive', 'house', 'service', '&lt;product&gt;', 'peop...</td>\n",
       "      <td>I've never used a house cleaning service befor...</td>\n",
       "      <td>1.0</td>\n",
       "      <td>0.998278</td>\n",
       "    </tr>\n",
       "    <tr>\n",
       "      <th>5</th>\n",
       "      <td>252324</td>\n",
       "      <td>['&lt;org&gt;', 'service', 'company', 'last', 'two',...</td>\n",
       "      <td>I bought 3 Groupons for cleaning services from...</td>\n",
       "      <td>0.0</td>\n",
       "      <td>0.998905</td>\n",
       "    </tr>\n",
       "    <tr>\n",
       "      <th>6</th>\n",
       "      <td>252326</td>\n",
       "      <td>['company', '&lt;org&gt;', 'would', 'could', 'incomp...</td>\n",
       "      <td>Hired this company through Groupon.  I would n...</td>\n",
       "      <td>0.0</td>\n",
       "      <td>0.999358</td>\n",
       "    </tr>\n",
       "    <tr>\n",
       "      <th>7</th>\n",
       "      <td>252330</td>\n",
       "      <td>['groupon', 'solution', 'gift', 'disappointed'...</td>\n",
       "      <td>Was given a groupon for Cleaning Solutions as ...</td>\n",
       "      <td>0.0</td>\n",
       "      <td>0.999752</td>\n",
       "    </tr>\n",
       "    <tr>\n",
       "      <th>8</th>\n",
       "      <td>253329</td>\n",
       "      <td>['rate', 'company', 'low', 'one', 'move', 'car...</td>\n",
       "      <td>I rarely rate any company so low.  And I reall...</td>\n",
       "      <td>0.0</td>\n",
       "      <td>0.996738</td>\n",
       "    </tr>\n",
       "    <tr>\n",
       "      <th>9</th>\n",
       "      <td>265028</td>\n",
       "      <td>['&lt;person&gt;', '800', 'morning', 'quick', 'respo...</td>\n",
       "      <td>Called Kimberley at 8:00 in the morning and go...</td>\n",
       "      <td>0.0</td>\n",
       "      <td>0.996425</td>\n",
       "    </tr>\n",
       "    <tr>\n",
       "      <th>10</th>\n",
       "      <td>266021</td>\n",
       "      <td>['&lt;org&gt;', 'office', '&lt;gpe&gt;', 'areannlast', 'we...</td>\n",
       "      <td>This is for the Maid Brigade office listed her...</td>\n",
       "      <td>0.0</td>\n",
       "      <td>0.988371</td>\n",
       "    </tr>\n",
       "    <tr>\n",
       "      <th>11</th>\n",
       "      <td>397261</td>\n",
       "      <td>['positive', 'yelp', 'review', '&lt;org&gt;', 'home'...</td>\n",
       "      <td>Going off of the positive yelp reviews I chose...</td>\n",
       "      <td>0.0</td>\n",
       "      <td>0.999310</td>\n",
       "    </tr>\n",
       "    <tr>\n",
       "      <th>12</th>\n",
       "      <td>397268</td>\n",
       "      <td>['&lt;product&gt;', 'several', 'month', 'situation',...</td>\n",
       "      <td>I used Angel Eyes for several months, but stop...</td>\n",
       "      <td>0.0</td>\n",
       "      <td>0.999427</td>\n",
       "    </tr>\n",
       "    <tr>\n",
       "      <th>13</th>\n",
       "      <td>422640</td>\n",
       "      <td>['&lt;org&gt;', 'last', 'year', 'professional', 'ser...</td>\n",
       "      <td>When I first used CSI last year, I was amazed ...</td>\n",
       "      <td>0.0</td>\n",
       "      <td>0.992325</td>\n",
       "    </tr>\n",
       "    <tr>\n",
       "      <th>14</th>\n",
       "      <td>429063</td>\n",
       "      <td>['service', 'havent', 'cleaning', 'service', '...</td>\n",
       "      <td>This service came recommended, as I haven't us...</td>\n",
       "      <td>0.0</td>\n",
       "      <td>0.999384</td>\n",
       "    </tr>\n",
       "    <tr>\n",
       "      <th>15</th>\n",
       "      <td>433952</td>\n",
       "      <td>['dont', 'housecleaning', 'service', 'time', '...</td>\n",
       "      <td>I don't use a housecleaning service regularly,...</td>\n",
       "      <td>1.0</td>\n",
       "      <td>0.999383</td>\n",
       "    </tr>\n",
       "    <tr>\n",
       "      <th>16</th>\n",
       "      <td>456017</td>\n",
       "      <td>['guy', 'great', 'time', 'friendly', 'positive...</td>\n",
       "      <td>These guys are great at what they do.  They we...</td>\n",
       "      <td>1.0</td>\n",
       "      <td>0.999710</td>\n",
       "    </tr>\n",
       "    <tr>\n",
       "      <th>17</th>\n",
       "      <td>502226</td>\n",
       "      <td>['move', 'cleaning', 'home', 'overwhelm', 'wor...</td>\n",
       "      <td>I had to do a move out cleaning for my home an...</td>\n",
       "      <td>0.0</td>\n",
       "      <td>0.982728</td>\n",
       "    </tr>\n",
       "    <tr>\n",
       "      <th>18</th>\n",
       "      <td>502238</td>\n",
       "      <td>['15', 'year', 'old', 'luxury', 'home', 'house...</td>\n",
       "      <td>I bought a 15 year old luxury home that, while...</td>\n",
       "      <td>1.0</td>\n",
       "      <td>0.998531</td>\n",
       "    </tr>\n",
       "    <tr>\n",
       "      <th>19</th>\n",
       "      <td>502243</td>\n",
       "      <td>['&lt;org&gt;', 'house', 'top', 'carpet', 'list', 'h...</td>\n",
       "      <td>I hired Pristine cleaning to clean my house fr...</td>\n",
       "      <td>1.0</td>\n",
       "      <td>0.999335</td>\n",
       "    </tr>\n",
       "  </tbody>\n",
       "</table>\n",
       "</div>"
      ],
      "text/plain": [
       "       idx                                             tokens  \\\n",
       "0    13195  ['weekly', 'biweekly', 'basis', 'year', 'pleas...   \n",
       "1    27813  ['<person>', 'come', 'common', 'room', 'house'...   \n",
       "2   108381  ['two', 'home', '<person>', 'first', 'house', ...   \n",
       "3   240408  ['cleaning', 'authority', 'ideal', 'home', '<o...   \n",
       "4   252126  ['ive', 'house', 'service', '<product>', 'peop...   \n",
       "5   252324  ['<org>', 'service', 'company', 'last', 'two',...   \n",
       "6   252326  ['company', '<org>', 'would', 'could', 'incomp...   \n",
       "7   252330  ['groupon', 'solution', 'gift', 'disappointed'...   \n",
       "8   253329  ['rate', 'company', 'low', 'one', 'move', 'car...   \n",
       "9   265028  ['<person>', '800', 'morning', 'quick', 'respo...   \n",
       "10  266021  ['<org>', 'office', '<gpe>', 'areannlast', 'we...   \n",
       "11  397261  ['positive', 'yelp', 'review', '<org>', 'home'...   \n",
       "12  397268  ['<product>', 'several', 'month', 'situation',...   \n",
       "13  422640  ['<org>', 'last', 'year', 'professional', 'ser...   \n",
       "14  429063  ['service', 'havent', 'cleaning', 'service', '...   \n",
       "15  433952  ['dont', 'housecleaning', 'service', 'time', '...   \n",
       "16  456017  ['guy', 'great', 'time', 'friendly', 'positive...   \n",
       "17  502226  ['move', 'cleaning', 'home', 'overwhelm', 'wor...   \n",
       "18  502238  ['15', 'year', 'old', 'luxury', 'home', 'house...   \n",
       "19  502243  ['<org>', 'house', 'top', 'carpet', 'list', 'h...   \n",
       "\n",
       "                                                 text  sentiment  confidence  \n",
       "0   I have had Maid to Perfecting coming on a week...        1.0    0.999555  \n",
       "1   We had the Maids come in and do the common roo...        1.0    0.999394  \n",
       "2   Had two homes \\\"cleaned\\\" by Molly Maids- if y...        0.0    0.999292  \n",
       "3   The cleaning authority has no ideal what clean...        0.0    0.999751  \n",
       "4   I've never used a house cleaning service befor...        1.0    0.998278  \n",
       "5   I bought 3 Groupons for cleaning services from...        0.0    0.998905  \n",
       "6   Hired this company through Groupon.  I would n...        0.0    0.999358  \n",
       "7   Was given a groupon for Cleaning Solutions as ...        0.0    0.999752  \n",
       "8   I rarely rate any company so low.  And I reall...        0.0    0.996738  \n",
       "9   Called Kimberley at 8:00 in the morning and go...        0.0    0.996425  \n",
       "10  This is for the Maid Brigade office listed her...        0.0    0.988371  \n",
       "11  Going off of the positive yelp reviews I chose...        0.0    0.999310  \n",
       "12  I used Angel Eyes for several months, but stop...        0.0    0.999427  \n",
       "13  When I first used CSI last year, I was amazed ...        0.0    0.992325  \n",
       "14  This service came recommended, as I haven't us...        0.0    0.999384  \n",
       "15  I don't use a housecleaning service regularly,...        1.0    0.999383  \n",
       "16  These guys are great at what they do.  They we...        1.0    0.999710  \n",
       "17  I had to do a move out cleaning for my home an...        0.0    0.982728  \n",
       "18  I bought a 15 year old luxury home that, while...        1.0    0.998531  \n",
       "19  I hired Pristine cleaning to clean my house fr...        1.0    0.999335  "
      ]
     },
     "execution_count": 16,
     "metadata": {},
     "output_type": "execute_result"
    }
   ],
   "source": [
    "tagged_review = ner_tagger.preprocess_review(review)\n",
    "topic = clustering_model.assign_topic(tagged_review)\n",
    "related_reviews = clustering_model.fetch_cluster(topic)\n",
    "# related_reviews.head(20)"
   ]
  },
  {
   "cell_type": "markdown",
   "metadata": {},
   "source": [
    "### Part 3: Retrieving from Cluster DataFrame"
   ]
  },
  {
   "cell_type": "code",
   "execution_count": 17,
   "metadata": {},
   "outputs": [
    {
     "data": {
      "text/plain": [
       "\"Based on your review, it seems like you're looking for a home cleaning service that you can trust and that will do a thorough job.  \\n\\nGiven your experience with Sparkle Shine, I would recommend considering these options:\\n\\n* **Shine Bright Cleaning:**  They have consistently received positive reviews for their thorough cleaning and reliability. \\n* **Clean Sweep Services:**  They are known for their attention to detail and commitment to customer satisfaction. \\n\\nRemember, it's always a good idea to check out reviews and compare services before making a decision.\""
      ]
     },
     "execution_count": 17,
     "metadata": {},
     "output_type": "execute_result"
    }
   ],
   "source": [
    "rag_pipeline.generate_review(review, related_reviews)"
   ]
  }
 ],
 "metadata": {
  "kernelspec": {
   "display_name": "10701-env",
   "language": "python",
   "name": "python3"
  },
  "language_info": {
   "codemirror_mode": {
    "name": "ipython",
    "version": 3
   },
   "file_extension": ".py",
   "mimetype": "text/x-python",
   "name": "python",
   "nbconvert_exporter": "python",
   "pygments_lexer": "ipython3",
   "version": "3.10.15"
  }
 },
 "nbformat": 4,
 "nbformat_minor": 2
}
