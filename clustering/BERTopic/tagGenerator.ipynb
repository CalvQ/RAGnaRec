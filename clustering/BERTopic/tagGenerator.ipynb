{
 "cells": [
  {
   "cell_type": "code",
   "execution_count": 41,
   "metadata": {},
   "outputs": [],
   "source": [
    "import pickle as pkl\n",
    "import tqdm\n",
    "from gensim.corpora import Dictionary\n"
   ]
  },
  {
   "cell_type": "code",
   "execution_count": 42,
   "metadata": {},
   "outputs": [
    {
     "name": "stdout",
     "output_type": "stream",
     "text": [
      "This was the first place in Vegas where the Yelpers let me down. The salt and pepper shrimp appetizer was inedible: all of the shell was left on underneath the crispy fried coating. As a result, the sauce used to marinate the shrimp never penetrated the meat, it coagulated in the head, and EXPLODED on you upon taking a bite. GROSS! The potstickers and the beef chow fun lacked any flavor whatsoever. The only redeeming quality (the service is pretty awful) is the roast duck: crispy and tasty skin with relatively moist meat and a relative bargain compared to places in NY and L.A.\n",
      "20000\n"
     ]
    }
   ],
   "source": [
    "# get original reviews\n",
    "with open(\"../reviews_large.pkl\", \"rb\") as file:\n",
    "    reviews = pkl.load(file)\n",
    "    print(reviews[0])\n",
    "print(len(reviews))"
   ]
  },
  {
   "cell_type": "code",
   "execution_count": 43,
   "metadata": {},
   "outputs": [],
   "source": [
    "%run ../../NER/NER.py"
   ]
  },
  {
   "cell_type": "code",
   "execution_count": 44,
   "metadata": {},
   "outputs": [],
   "source": [
    "%%python ../../NER/NER.py\n",
    "from NER import NER"
   ]
  },
  {
   "cell_type": "code",
   "execution_count": 46,
   "metadata": {},
   "outputs": [],
   "source": [
    "# TAGS = [\"FAC\", \"ORG\", \"PERSON\", \"GPE\", \"EVENT\", \"WORK_OF_ART\", \"PRODUCT\", \"MONEY\", \"PERCENT\"]\n",
    "# TAGS = [\"FAC\", \"ORG\", \"PERSON\", \"MONEY\", \"PERCENT\"]\n",
    "TAGS = [\"FAC\", \"ORG\", \"PERSON\"]"
   ]
  },
  {
   "cell_type": "code",
   "execution_count": 47,
   "metadata": {},
   "outputs": [
    {
     "name": "stderr",
     "output_type": "stream",
     "text": [
      "                                                     \r"
     ]
    }
   ],
   "source": [
    "ner = NER(TARGET_TAGS=TAGS, REPLACEMENT_TAGS=TAGS)\n",
    "filtered_for_tags = []\n",
    "for review in tqdm.tqdm(reviews, leave=False):\n",
    "    flag, output = ner.preprocess_text(review, remove_verbs=True)\n",
    "    if flag:\n",
    "        filtered_for_tags.append(output)"
   ]
  },
  {
   "cell_type": "code",
   "execution_count": 48,
   "metadata": {},
   "outputs": [],
   "source": [
    "with open(\"verbs.tag\", \"wb\") as f:\n",
    "    pkl.dump(filtered_for_tags, f)"
   ]
  },
  {
   "cell_type": "code",
   "execution_count": 51,
   "metadata": {},
   "outputs": [
    {
     "name": "stdout",
     "output_type": "stream",
     "text": [
      "10466\n"
     ]
    }
   ],
   "source": [
    "with open(\"base.tag\", \"rb\") as file:\n",
    "    filter_reviews = pkl.load(file)\n",
    "print(len(filter_reviews))"
   ]
  },
  {
   "cell_type": "code",
   "execution_count": 52,
   "metadata": {},
   "outputs": [
    {
     "name": "stdout",
     "output_type": "stream",
     "text": [
      "['first', 'place', 'vega', '<person>', 'let', 'salt', 'pepper', 'shrimp', 'appetizer', 'inedible', 'shell', 'leave', 'underneath', 'crispy', 'fry', 'coating', 'result', 'sauce', 'use', 'marinate', 'shrimp', 'never', 'penetrate', 'meat', 'coagulate', 'head', 'explode', 'upon', 'take', 'bite', 'gross', 'potstickers', 'beef', 'chow', 'fun', 'lack', 'flavor', 'whatsoever', 'redeeming', 'quality', 'service', 'pretty', 'awful', 'roast', 'duck', 'crispy', 'tasty', 'skin', 'relatively', 'moist', 'meat', 'relative', 'bargain', 'compare', 'place', 'ny', 'la']\n",
      "['like', '35', 'say', 'average', 'nok', 'lets', 'start', 'say', '<org>', 'general', 'good', 'value', 'unless', 'eat', 'like', 'pig', 'however', 'free', 'since', 'loyalty', 'point', 'otherwise', 'youll', 'spend', '26', 'weekend', 'champagne', 'brunch', 'nwith', 'say', 'stay', 'hotel', 'like', 'many', 'option', 'bad', 'could', 'bad', '<org>', 'ni', 'like', 'try', 'many', 'thing', 'multiple', 'glass', 'champagne', 'however', 'tend', 'stick', 'basic', 'safe', 'know', 'ill', 'like']\n",
      "['ive', 'know', '<person>', 'since', 'purple', 'belt', 'always', 'unique', 'way', 'teaching', 'could', 'show', 'technique', 'could', 'go', 'use', 'live', 'instructor', 'ability', 'show', 'jiu', 'jitsu', 'way', '<person>', 'ni', 'train', 'nearly', 'decade', 'train', 'amongst', 'amazing', 'trainer', 'honestly', 'say', '<person>', 'rival', 'best', 'ive', 'privilege', 'train', 'nif', 'want', 'great', 'training', 'support', 'room', 'competition', 'place', 'go']\n",
      "['food', 'delicious', 'elevate', 'texmex', 'feel', 'everything', 'beautifully', 'plat', 'experience', 'somewhat', 'rare', 'texmex', 'cuisine', 'menu', 'extensive', 'variety', 'option', 'everything', 'ive', 'try', 'great', 'nnonto', 'drink', 'incredible', 'unique', 'selection', 'drink', 'choose', 'best', 'drink', 'ive', 'anywhere', 'madison', 'bartender', 'talented', 'drink', 'mixer', 'nnmy', 'one', 'complaint', '<fac>', 'bar', 'busy', 'dinner', 'weekend', 'every', 'seat', 'take', 'standing', 'room', 'around', 'bar', 'crowded', 'problemi', 'handle', 'crowd', 'problem', 'bartender', 'behind', 'bar', 'serve', 'people', 'bar', 'people', 'seat', 'table', 'dinner', 'take', 'forever', 'get', 'drinkwhich', 'sad', 'delicious', 'come', 'dinner', 'large', 'group', 'almost', 'everyone', 'give', 'first', 'drink', 'tire', 'wait', 'try', 'get', 'service', 'bar']\n",
      "['one', 'word', 'packednnsuper', 'tight', 'place', '<fac>', 'isnt', 'open', 'say', 'tight', 'mean', 'body', 'body', 'room', 'move', 'let', 'alone', 'dance', '<fac>', 'open', 'place', 'place']\n",
      "['best', 'spray', 'tan', 'ever', '<org>', 'tan', 'solution', 'turn', 'orange', 'weird', 'smell', 'leave', 'every', 'time', 'natural', 'look', 'tan', 'owner', 'always', 'show', 'several', 'new', 'tan', 'trick', 'like', 'go', 'stand', 'booth', 'couple', 'minute', 'spray', 'tanning', 'versaspa', 'use', 'body', 'lotion', 'make', 'tan', 'last', 'longer']\n",
      "['coffee', 'fantastic', 'little', 'bit', 'way', 'sure', 'beat', '<org>', 'customer', 'service', 'exceptional', 'well', 'highly', 'recommend', 'back']\n",
      "['may', 'first', 'review', '<org>', 'still', 'say', 'first', 'person', 'ever', 'stay', 'room', 'sleep', 'bed', 'may', 'never', 'luxurious', 'billion', '<org>', 'na', 'large', 'group', 'friend', 'hit', 'vega', 'birthday', 'celebration', 'little', 'running', 'rock', 'roll', 'marathon', 'happen', 'single', 'person', 'trip', 'miss', '<org>', 'package', 'deal', '<org>', 'good', 'friend', 'super', 'internet', 'savvy', 'neighbor', 'scour', 'net', 'find', '<org>', 'open', 'week', 'race', 'one', 'quick', 'call', 'reservation', 'specialist', 'fantastic', 'suite', 'less', '<org>', 'nfirst', 'sight', 'building', 'strip', 'gleam', 'sun', 'curved', 'wall', 'glass', '<org>', 'hop', 'right', 'limo', 'grab', 'bag', 'room', 'quick', 'stop', 'front', 'desk', 'lobby', 'nice', 'quiet', 'two', 'bar', 'area', 'chill', 'something', 'say', 'piece', 'mind', 'away', 'hustle', 'noise', 'casino', 'nmy', 'room', 'modern', 'design', 'glass', 'dark', 'wood', 'asian', 'flair', 'slide', 'door', 'kitchen', 'din', 'area', 'living', 'room', 'bed', 'room', 'monster', 'bathroom', 'massive', 'tub', 'giant', 'lcd', 'tv', 'window', 'shade', 'day', 'night', 'light', 'close', 'shade', 'hide', 'sweet', 'view', 'strip', 'aria', 'new', 'mall', 'ni', 'vegas', 'several', 'time', 'stay', 'variety', '<org>', 'hotel', 'combo', 'price', 'level', 'say', 'far', 'best', 'place', 'vega', 'ever', 'stay', 'even', 'though', 'idea', 'spend', 'time', 'room', '<org>', 'make', 'want', 'stay']\n",
      "['want', 'preface', 'say', 'come', 'since', '2005', 'since', 'college', 'day', 'club', 'bar', 'hopping', 'girl', 'vegas', 'heck', 'even', 'come', 'last', 'year', 'attend', 'one', 'good', 'friend', 'bachelorette', 'party', 'vega', 'always', 'order', '777', 'specialnnthus', 'take', 'aback', 'recent', 'trip', 'january', 'year', 'come', 'fiance', 'family', 'want', 'show', 'know', 'cheap', 'eats', 'vega', 'first', 'time', 'honestly', 'leave', 'feel', 'empty', 'disappointed', 'first', 'wouldnt', 'let', 'sit', 'table', 'want', 'due', 'special', 'restriction', 'second', 'take', 'almost', '15', 'minute', 'get', 'first', 'time', 'manager', 'come', 'tell', 'dont', 'know', 'serve', 'finally', '15', 'min', 'annoying', 'manager', 'come', 'tell', 'shell', 'one', 'serving', 'ask', 'want', 'say', 'six', 'water', 'start', 'six', 'order', '777', 'special', 'make', 'disgusted', 'look', 'disdain', 'smell', 'stinky', 'fish', 'proceed', 'give', 'attitude', 'order', 'many', 'specialsnncome', 'woman', 'really', 'think', 'ill', 'come', 'dish', 'theyre', 'annoyingly', 'overprice', 'would', 'never', 'step', 'foot', '<fac>', 'special', 'absolutely', 'nothing', 'special', '<fac>', 'ambience', 'bunch', 'bros', 'white', 'trash', 'walk', 'around', 'point', 'vouch', 'manager', 'different', 'say', 'demographic', 'sorry', 'state', 'truth', 'cant', 'handle', 'well', 'badnnanyway', 'give', 'major', 'attitude', 'stomp', 'know', 'may', 'even', 'spit', 'water', 'thoroughly', 'examine', 'see', 'float', 'loogies', 'sp', 'low', 'behold', 'none', 'ok', 'anyway', 'food', 'come', 'eat', 'basically', 'ask', 'fake', 'tonehow', 'food', 'go', 'really', 'short', 'usnnhonestly', 'want', 'go', 'away', 'attitude', 'uncalled', 'unprofessional', 'make', 'family', 'whofor', 'first', 'time', 'feel', 'uncomfortable', 'also', 'show', 'judge', 'order', 'meal', 'cheap', 'doesnt', 'matter', 'much', 'meal', '500', 'still', 'treat', 'nice', 'like', 'human', 'thats', 'tip', 'friend', 'tip', '25', 'cent', 'hahhabwahhaa', 'hope', 'realize', 'downfall', 'bitch']\n",
      "['review', 'class', 'cardio', 'dance', 'party', 'wed', 'night', 'lot', 'always', 'give', 'another', 'chance', 'instructor', 'usually', 'thing', 'class', 'hurt', 'sciatica', 'knee', 'neckso', 'thing', 'use', 'teach', 'step', 'aerobics', 'pus', 'time', 'act', 'like', 'boot', 'camp', 'instructor', 'call', 'order', 'doesnt', 'actually', 'instruct', 'tonight', 'except', 'tonight', 'think', 'dj', 'mostly', 'play', 'music', 'turn', 'simply', 'look', 'screen', 'macwhich', 'make', 'follow', 'direction', 'even', 'harder', 'stick', 'back', 'club', '<fac>', 'instructor', 'really', 'know', 'instructthey', 'class', 'entire', 'time', 'everyone']\n"
     ]
    }
   ],
   "source": [
    "for r in filter_reviews[:1000:100]:\n",
    "    print(r)"
   ]
  },
  {
   "cell_type": "code",
   "execution_count": null,
   "metadata": {},
   "outputs": [],
   "source": []
  }
 ],
 "metadata": {
  "kernelspec": {
   "display_name": "10701-env",
   "language": "python",
   "name": "python3"
  },
  "language_info": {
   "codemirror_mode": {
    "name": "ipython",
    "version": 3
   },
   "file_extension": ".py",
   "mimetype": "text/x-python",
   "name": "python",
   "nbconvert_exporter": "python",
   "pygments_lexer": "ipython3",
   "version": "3.10.15"
  }
 },
 "nbformat": 4,
 "nbformat_minor": 2
}
