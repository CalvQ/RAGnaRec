{
 "cells": [
  {
   "cell_type": "code",
   "execution_count": 1,
   "metadata": {},
   "outputs": [],
   "source": [
    "import numpy as np\n",
    "from sklearn.feature_extraction.text import TfidfVectorizer\n",
    "from scipy import sparse\n",
    "import pandas as pd\n",
    "from tqdm import tqdm"
   ]
  },
  {
   "cell_type": "code",
   "execution_count": 2,
   "metadata": {},
   "outputs": [],
   "source": [
    "class BM25(object):\n",
    "    def __init__(self, b=0.75, k1=1.6):\n",
    "        self.vectorizer = TfidfVectorizer(norm=None, smooth_idf=False)\n",
    "        self.b = b\n",
    "        self.k1 = k1\n",
    "\n",
    "    def fit(self, X):\n",
    "        \"\"\" Fit IDF to documents X \"\"\"\n",
    "        self.vectorizer.fit(X)\n",
    "        y = super(TfidfVectorizer, self.vectorizer).transform(X)\n",
    "        self.avdl = y.sum(1).mean()\n",
    "\n",
    "    def transform(self, q, X):\n",
    "        \"\"\" Calculate BM25 between query q and documents X \"\"\"\n",
    "        b, k1, avdl = self.b, self.k1, self.avdl\n",
    "\n",
    "        # apply CountVectorizer\n",
    "        X = super(TfidfVectorizer, self.vectorizer).transform(X)\n",
    "        len_X = X.sum(1).A1\n",
    "        q, = super(TfidfVectorizer, self.vectorizer).transform([q])\n",
    "        assert sparse.isspmatrix_csr(q)\n",
    "\n",
    "        # convert to csc for better column slicing\n",
    "        X = X.tocsc()[:, q.indices]\n",
    "        denom = X + (k1 * (1 - b + b * len_X / avdl))[:, None]\n",
    "        # idf(t) = log [ n / df(t) ] + 1 in sklearn, so it need to be coneverted\n",
    "        # to idf(t) = log [ n / df(t) ] with minus 1\n",
    "        idf = self.vectorizer._tfidf.idf_[None, q.indices] - 1.\n",
    "        numer = X.multiply(np.broadcast_to(idf, X.shape)) * (k1 + 1)                                                          \n",
    "        return (numer / denom).sum(1).A1"
   ]
  },
  {
   "cell_type": "code",
   "execution_count": 3,
   "metadata": {},
   "outputs": [
    {
     "name": "stderr",
     "output_type": "stream",
     "text": [
      "/Users/calvq/miniconda3/envs/10701-env/lib/python3.10/site-packages/tqdm/auto.py:21: TqdmWarning: IProgress not found. Please update jupyter and ipywidgets. See https://ipywidgets.readthedocs.io/en/stable/user_install.html\n",
      "  from .autonotebook import tqdm as notebook_tqdm\n"
     ]
    }
   ],
   "source": [
    "splits = {'train': 'yelp_review_full/train-00000-of-00001.parquet', 'test': 'yelp_review_full/test-00000-of-00001.parquet'}\n",
    "df_train = pd.read_parquet(\"hf://datasets/Yelp/yelp_review_full/\" + splits[\"train\"])\n",
    "df_test = pd.read_parquet(\"hf://datasets/Yelp/yelp_review_full/\" + splits[\"test\"])"
   ]
  },
  {
   "cell_type": "code",
   "execution_count": 4,
   "metadata": {},
   "outputs": [
    {
     "data": {
      "text/html": [
       "<div>\n",
       "<style scoped>\n",
       "    .dataframe tbody tr th:only-of-type {\n",
       "        vertical-align: middle;\n",
       "    }\n",
       "\n",
       "    .dataframe tbody tr th {\n",
       "        vertical-align: top;\n",
       "    }\n",
       "\n",
       "    .dataframe thead th {\n",
       "        text-align: right;\n",
       "    }\n",
       "</style>\n",
       "<table border=\"1\" class=\"dataframe\">\n",
       "  <thead>\n",
       "    <tr style=\"text-align: right;\">\n",
       "      <th></th>\n",
       "      <th>label</th>\n",
       "      <th>text</th>\n",
       "    </tr>\n",
       "  </thead>\n",
       "  <tbody>\n",
       "    <tr>\n",
       "      <th>0</th>\n",
       "      <td>4</td>\n",
       "      <td>dr. goldberg offers everything i look for in a...</td>\n",
       "    </tr>\n",
       "    <tr>\n",
       "      <th>1</th>\n",
       "      <td>1</td>\n",
       "      <td>Unfortunately, the frustration of being Dr. Go...</td>\n",
       "    </tr>\n",
       "    <tr>\n",
       "      <th>2</th>\n",
       "      <td>3</td>\n",
       "      <td>Been going to Dr. Goldberg for over 10 years. ...</td>\n",
       "    </tr>\n",
       "    <tr>\n",
       "      <th>3</th>\n",
       "      <td>3</td>\n",
       "      <td>Got a letter in the mail last week that said D...</td>\n",
       "    </tr>\n",
       "    <tr>\n",
       "      <th>4</th>\n",
       "      <td>0</td>\n",
       "      <td>I don't know what Dr. Goldberg was like before...</td>\n",
       "    </tr>\n",
       "  </tbody>\n",
       "</table>\n",
       "</div>"
      ],
      "text/plain": [
       "   label                                               text\n",
       "0      4  dr. goldberg offers everything i look for in a...\n",
       "1      1  Unfortunately, the frustration of being Dr. Go...\n",
       "2      3  Been going to Dr. Goldberg for over 10 years. ...\n",
       "3      3  Got a letter in the mail last week that said D...\n",
       "4      0  I don't know what Dr. Goldberg was like before..."
      ]
     },
     "execution_count": 4,
     "metadata": {},
     "output_type": "execute_result"
    }
   ],
   "source": [
    "df_train.head()"
   ]
  },
  {
   "cell_type": "code",
   "execution_count": 5,
   "metadata": {},
   "outputs": [
    {
     "name": "stdout",
     "output_type": "stream",
     "text": [
      "Train set size:  650000\n",
      "Test set size:  50000\n"
     ]
    }
   ],
   "source": [
    "print(\"Train set size: \", df_train.shape[0])\n",
    "print(\"Test set size: \", df_test.shape[0])"
   ]
  },
  {
   "cell_type": "code",
   "execution_count": 6,
   "metadata": {},
   "outputs": [
    {
     "data": {
      "text/html": [
       "<div>\n",
       "<style scoped>\n",
       "    .dataframe tbody tr th:only-of-type {\n",
       "        vertical-align: middle;\n",
       "    }\n",
       "\n",
       "    .dataframe tbody tr th {\n",
       "        vertical-align: top;\n",
       "    }\n",
       "\n",
       "    .dataframe thead th {\n",
       "        text-align: right;\n",
       "    }\n",
       "</style>\n",
       "<table border=\"1\" class=\"dataframe\">\n",
       "  <thead>\n",
       "    <tr style=\"text-align: right;\">\n",
       "      <th></th>\n",
       "      <th>index</th>\n",
       "      <th>label</th>\n",
       "      <th>text</th>\n",
       "    </tr>\n",
       "  </thead>\n",
       "  <tbody>\n",
       "    <tr>\n",
       "      <th>0</th>\n",
       "      <td>623727</td>\n",
       "      <td>0</td>\n",
       "      <td>If you are looking for a place where you are t...</td>\n",
       "    </tr>\n",
       "    <tr>\n",
       "      <th>1</th>\n",
       "      <td>82720</td>\n",
       "      <td>2</td>\n",
       "      <td>Grab a coffee, and window shop. People watch. ...</td>\n",
       "    </tr>\n",
       "    <tr>\n",
       "      <th>2</th>\n",
       "      <td>545814</td>\n",
       "      <td>0</td>\n",
       "      <td>I called to get a quote for my dental procedur...</td>\n",
       "    </tr>\n",
       "    <tr>\n",
       "      <th>3</th>\n",
       "      <td>304799</td>\n",
       "      <td>2</td>\n",
       "      <td>This place is fine for a quick stop on your wa...</td>\n",
       "    </tr>\n",
       "    <tr>\n",
       "      <th>4</th>\n",
       "      <td>220726</td>\n",
       "      <td>2</td>\n",
       "      <td>After remembering coming to Archi's and having...</td>\n",
       "    </tr>\n",
       "  </tbody>\n",
       "</table>\n",
       "</div>"
      ],
      "text/plain": [
       "    index  label                                               text\n",
       "0  623727      0  If you are looking for a place where you are t...\n",
       "1   82720      2  Grab a coffee, and window shop. People watch. ...\n",
       "2  545814      0  I called to get a quote for my dental procedur...\n",
       "3  304799      2  This place is fine for a quick stop on your wa...\n",
       "4  220726      2  After remembering coming to Archi's and having..."
      ]
     },
     "execution_count": 6,
     "metadata": {},
     "output_type": "execute_result"
    }
   ],
   "source": [
    "# df_train_sub = df_train.iloc[:1000]\n",
    "df_train_sub = df_train.sample(n=1000, random_state=43).reset_index()\n",
    "df_train_sub.head()"
   ]
  },
  {
   "cell_type": "code",
   "execution_count": 7,
   "metadata": {},
   "outputs": [],
   "source": [
    "bm25 = BM25()\n",
    "bm25.fit(df_train_sub[\"text\"][1:])\n",
    "indices = bm25.transform(df_train_sub[\"text\"].iloc[0], df_train_sub[\"text\"]).argsort()[-11:][::-1]"
   ]
  },
  {
   "cell_type": "code",
   "execution_count": 15,
   "metadata": {},
   "outputs": [],
   "source": [
    "bm25 = BM25()\n",
    "bm25.fit(df_train_sub[\"text\"][1:])\n",
    "indices = bm25.transform(\"Food is great just wish it was bigger and you didnt have to call to make a reservation\", df_train_sub[\"text\"]).argsort()[-11:][::-1]"
   ]
  },
  {
   "cell_type": "code",
   "execution_count": 8,
   "metadata": {},
   "outputs": [
    {
     "name": "stdout",
     "output_type": "stream",
     "text": [
      "999\n",
      "1000\n"
     ]
    }
   ],
   "source": [
    "# print(df_train_sub[\"text\"][1:][:11])\n",
    "print(len(df_train_sub[\"text\"][1:]))\n",
    "print(len(bm25.transform(df_train_sub[\"text\"][0], df_train_sub[\"text\"])))"
   ]
  },
  {
   "cell_type": "code",
   "execution_count": 18,
   "metadata": {},
   "outputs": [
    {
     "name": "stdout",
     "output_type": "stream",
     "text": [
      "Food is great just wish it was bigger and you didnt have to call to make a reservation\n",
      "[  5 732  51 842 134 596 763 851 712 563 944]\n",
      "\n",
      "732 works like a strip bar...... we were greeted to sit down on a table of five, after we ordered food we were rudely asked to switch tables, we didnt mind so we asked to be seated in a bigger table since our options were to move to a much smaller table.\\n\\nThe owner came over and was worse than his own staff, and demanded we move now since a big shot is coming...\\n\\nAgain we said we didnt mind we just needed a bigger table lol... The owner then aggressively told me this table was a mistake by our staff for you to sit here, this was one hour later of us sitting. He then snapped hookah from me and asked me and my group to get the f**k out.\\n\\nSo we did politely without an issue, the arrogance of this place left a bad taste in my mouth.\\n\\nBasically if you dont know the owner, dont go! or else someone who knows the owner will be taken care of instead of you.\\n\\nGood Luck!\n",
      "\n",
      "51 I have no idea about the food or service, as the restaurant was closed for lunch on the day I had a reservation for a party of 12.  They had an accident in the kitchen regarding a fire suppressant system.  I know accidents happen and they had tried to call me.  The very nice hostess made a point of coming to the door and took my name and number so that the Manager could call me to apologize.  Guess what, 2 weeks later - No Call!   Where does a party of 12 drop in?  It was a huge hassle and no call??   Do they not know about the longevity of restaurants on Market Street?   Better step it up.\n",
      "\n",
      "842 if i could give this hotel negative stars, i certainly would.\\n\\nthe short story is:  twice now i have been charged $408 dollars (yes, total of $816) because of their incompetency, and they have done NOTHING to rectify the situation.\\n\\nlast year, i reserved two room there for ironman wisconsin.  they have a policy to cancel room two weeks prior or more.  fair enough.  two months prior, i called them to cancel both rooms. they said everything was taken care of.\\n\\nfast forward to two weeks prior to ironman, i double check the online system to make sure the rooms are cancelled.  they were not.  i call the hotel again to cancel  they said everything was taken care of.  \\n\\ntwo days later, i triple check online. still not cancelled.  i call the hotel yet again.  the woman says she'll look into it and call me back.  she never does.  a $408 charge is posted to my account. i call again.  the woman says again she will look into it \\\"but there's probably nothing i can do.\\\"  i hear nothing from her again.\\n\\ntwo weeks later, weekend of ironman, i get a voicemail from a different woman, confirming my room reservations.  i call her back, leave her a voicemail, clearly irritated at this point that the rooms were STILL not cancelled.  she calls me back, leaves a voicemail.  i call her back, leave her a voicemail, no return call.\\n\\nnow, today, a week after ironman, i get ANOTHER $408 charge posted to my account.  this is completely unacceptable!  how can you justify charging someone $816 for YOUR mistakes!?\\n\\nSTAY AWAY.  on top of that, it's an outdated hotel... clearly their reservation system reflects that as well.\n"
     ]
    }
   ],
   "source": [
    "# print(df_train_sub[\"text\"][0])\n",
    "print(\"Food is great just wish it was bigger and you didnt have to call to make a reservation\")\n",
    "print(indices)\n",
    "for index in indices[1:4]:\n",
    "    print()\n",
    "    print(index, df_train_sub[\"text\"][index])"
   ]
  },
  {
   "cell_type": "code",
   "execution_count": 10,
   "metadata": {},
   "outputs": [],
   "source": [
    "from sklearn.preprocessing import normalize\n",
    "from sklearn.decomposition import PCA\n",
    "from sklearn.cluster import KMeans\n",
    "import matplotlib.pyplot as plt\n",
    "import seaborn as sns\n",
    "\n",
    "\n",
    "\n",
    "tfidf_vectorizer = TfidfVectorizer(max_features=5000, stop_words='english')\n",
    "tfidf_matrix = tfidf_vectorizer.fit_transform(df_train_sub['text'])\n",
    "normalized_tfidf = normalize(tfidf_matrix)\n"
   ]
  },
  {
   "cell_type": "code",
   "execution_count": 11,
   "metadata": {},
   "outputs": [],
   "source": [
    "n_clusters = 7  # You can adjust this number\n",
    "kmeans = KMeans(n_clusters=n_clusters, random_state=43, n_init=10)\n",
    "cluster_labels = kmeans.fit_predict(normalized_tfidf)"
   ]
  },
  {
   "cell_type": "code",
   "execution_count": 12,
   "metadata": {},
   "outputs": [
    {
     "data": {
      "text/html": [
       "<div>\n",
       "<style scoped>\n",
       "    .dataframe tbody tr th:only-of-type {\n",
       "        vertical-align: middle;\n",
       "    }\n",
       "\n",
       "    .dataframe tbody tr th {\n",
       "        vertical-align: top;\n",
       "    }\n",
       "\n",
       "    .dataframe thead th {\n",
       "        text-align: right;\n",
       "    }\n",
       "</style>\n",
       "<table border=\"1\" class=\"dataframe\">\n",
       "  <thead>\n",
       "    <tr style=\"text-align: right;\">\n",
       "      <th></th>\n",
       "      <th>index</th>\n",
       "      <th>label</th>\n",
       "      <th>text</th>\n",
       "      <th>Cluster</th>\n",
       "    </tr>\n",
       "  </thead>\n",
       "  <tbody>\n",
       "    <tr>\n",
       "      <th>0</th>\n",
       "      <td>623727</td>\n",
       "      <td>0</td>\n",
       "      <td>If you are looking for a place where you are t...</td>\n",
       "      <td>4</td>\n",
       "    </tr>\n",
       "    <tr>\n",
       "      <th>1</th>\n",
       "      <td>82720</td>\n",
       "      <td>2</td>\n",
       "      <td>Grab a coffee, and window shop. People watch. ...</td>\n",
       "      <td>2</td>\n",
       "    </tr>\n",
       "    <tr>\n",
       "      <th>2</th>\n",
       "      <td>545814</td>\n",
       "      <td>0</td>\n",
       "      <td>I called to get a quote for my dental procedur...</td>\n",
       "      <td>0</td>\n",
       "    </tr>\n",
       "    <tr>\n",
       "      <th>3</th>\n",
       "      <td>304799</td>\n",
       "      <td>2</td>\n",
       "      <td>This place is fine for a quick stop on your wa...</td>\n",
       "      <td>2</td>\n",
       "    </tr>\n",
       "    <tr>\n",
       "      <th>4</th>\n",
       "      <td>220726</td>\n",
       "      <td>2</td>\n",
       "      <td>After remembering coming to Archi's and having...</td>\n",
       "      <td>4</td>\n",
       "    </tr>\n",
       "  </tbody>\n",
       "</table>\n",
       "</div>"
      ],
      "text/plain": [
       "    index  label                                               text  Cluster\n",
       "0  623727      0  If you are looking for a place where you are t...        4\n",
       "1   82720      2  Grab a coffee, and window shop. People watch. ...        2\n",
       "2  545814      0  I called to get a quote for my dental procedur...        0\n",
       "3  304799      2  This place is fine for a quick stop on your wa...        2\n",
       "4  220726      2  After remembering coming to Archi's and having...        4"
      ]
     },
     "execution_count": 12,
     "metadata": {},
     "output_type": "execute_result"
    }
   ],
   "source": [
    "# df_pca = pd.DataFrame(df_train_sb, columns=['Cluster'])\n",
    "df_train_sub[\"Cluster\"] = cluster_labels\n",
    "# df_pca['Cluster'] = cluster_labels\n",
    "df_train_sub.head()\n"
   ]
  },
  {
   "cell_type": "code",
   "execution_count": 13,
   "metadata": {},
   "outputs": [],
   "source": [
    "cluster_bm25 = BM25()"
   ]
  },
  {
   "cell_type": "code",
   "execution_count": 14,
   "metadata": {},
   "outputs": [
    {
     "name": "stdout",
     "output_type": "stream",
     "text": [
      "Cluster: 0\n",
      "Query: I called to get a quote for my dental procedures that I need to be done since I already went to my regular dentist here in California and I know what I need to be done and I just want to compare the prices of my out of pocket cost. She replied and told me to call my insurance and they'll be able to help me. Meanwhile I informed her that I actually called other dental office around that area and ask the same thing and they're able to give me an estimate cost. And her answer to that is \\\"that's fine and you have a good day\\\". No effort of any kind of customer service. I guess they don't need more patients.\n",
      "11 Tore this place down after a Cosmopolitan Pool Party!\\n\\nMet some nice ladies and went in on everything on the menu.\\n\\nDropped about $60 on grub, but had to find seating in another area.\\n\\nThe food was good and definitely, hit the spot after a day of fun in the sun at the pool.\\n\\nWould definitely try again and hopefully, they can get the line situation sorted out since a few people seemed to be upset about speed of service. \n",
      "\n",
      "88 My daughter who once told me she loves whoever invented meat asks to go here, I think that pretty much says it all. \n",
      "\n",
      "75 My first time to Aureole will be my last. We had a 7:00 reservation when we checked in the hostess said they would be right with us. They sat four very large parties ahead of us while we waited. After 15 minutes I went to the hostess stand and asked when we were going to be seated - they seemed to have let the reservation.\\n\\nOnce we got to our table we waited a very long time for our server to come greet us. This became that pattern of the night. We sat with dirty, empty plates for a very long time and once those were cleared we waited for an even longer time for someone to come ask us if we wanted dessert.\\n\\nFor a place that charges such an incredible premium for it's food and even more for it's wine one expects MUCH better service.\\n\\nThe food was ok - nothing spectacular.\\n\\nThere are far better places for far less where one doesn't have to wait for service. \n",
      "\n",
      "Cluster: 1\n",
      "Query: The PA Dutch is amazing, good fries & drink selection. Plus the decor has this old-church vibe which is really cute. Not really good for more than a two-person group though, as the seating is pretty awkward.\n",
      "31 I went hear today as my first time.  They are a great nail salon in uptown Charlotte!  I will definitely be going back.  They are moving in November to a new street front location off of Trade St. behind Kings Kitchen.  Definitely worth checking out!  The staff was friendly and everyone I spoke with spoke very good english! \n",
      "\n",
      "30 I went to JT Posh after reading about it in Charlotte Magazine, and was excited to hunt for upscale bargains and treasures.  Though there were plenty of these here, they were not sized for my more voluptuous behind or bosom.  That's right--it's really only a fun store to shop in if you are a 0-4.  I did like some of the purses, and the shoes, but even then, the shoes were too big (despite my large bottom, my feet happen to be a dainty size 6).  \\n\\nThings are still a little pricey, but the sale rack had some great deals, if you can fit into them.  The jewelry was a bit lacking, but I'm sure this changes frequently. \n",
      "\n",
      "7 Don't let the long line going out the door fool you. Ginger Root is no good, and the only reason it does any business is because there are no other viable options in walking distance in this area for students.\\n\\nIt's really frustrating too, because the first time I came here, I actually thought it was kind of good. I had a fried tofu dish, and while it needed a bit of flavoring from the sauce bar, it was cooked decent, and was a fine experience. Every other time i've come here since, they haven't had that dish. Instead, my only option every time has been the veggie stir fry, which is horrid. Super oily, no flavor, and the veggies suck. The most common veggie I found in mine is those mini corn cobs. Seriously? I wouldn't even feed that to cattle, let alone a human being.\\n\\nSo because the stir fry stinks, I have no other choices, and I therefore don't eat here. I even asked before if I can get the red curry without shrimp, and they said that I couldn't. So nowadays, my only visits here are when i'm in Union South and decide to look at the menu and hope in vain they added another veggie option. Like seriously, get rid of that stir fry and add in that tofu instead. If you did this, Union Staff, i'd easily up my rating to a 3. But with the way it is now, i'll just walk the extra 3 blocks to Hong Kong Cafe, thank you very much. \n",
      "\n",
      "Cluster: 2\n",
      "Query: Grab a coffee, and window shop. People watch. Sip. Enjoy.\n",
      "52 SO GREASY. SO GOOD. I love eating at this place because I feel like every bite of their food is in direct sacrilege to vegetarians and vegans. It just feels so good to eat whatever I want and live my life without people telling me what's good for me and what isn't. Like every time someone orders a burger there, a vegan collapses from protein deficiency. It's so satisfying. Anyway no offense intended to real vegans and vegetarians, you can do whatever. Yo want just like I can, but you know the kind of people I'm talking about. Like people who do crossfit. Not sure if you know anyone who does crossfit? Don't worry, they'll tell you. God these butter burgers are so delicious, but they really make you feel like you need to take a nap. Or a coma. No satire intended I really do love these burgers. God Bless America. \n",
      "\n",
      "164 The staff is rude. \\n\\nThe food is so-so. Not worth the price (you're paying for the location).\\n\\nThe atmosphere is cool. But that doesn't make up for the staff's attitude. \\n\\nI have been a few times and been treated poorly in some way each time, when you're dropping $100 or so on drinks and a movie in one spot I think that it isn't too much to ask that the staff be courteous.\\n\\nI guess I could get over the food that's half way good if the staff was just nicer. Over the 4 or 5 times that I've been there though the staff has progressively gotten worse. \n",
      "\n",
      "117 Authentic Mexican food in the heart of bustling downtown Tempe. Service was good and they gave us more chips when we asked for them (sign said only one per table.) Try the chimichanga if you're into the that- mix it up & don't feel you have to rely on the meals to construct a tasty plate. \n",
      "\n",
      "Cluster: 3\n",
      "Query: I never visited Kushi's before it moved from Victoria Street, so I don't have the basis of comparison that others have quoted.\\n\\n\\n I've certainly found the service to be very friendly and efficient, and there's plenty of choice. I've mainly had lunches there on occasions when Home Bistro across the road has been closed, plus the occasional pre-theatre evening meal. All fairly conventional Indian cuisine, but perfectly acceptable, and the pricing is very reasonable.\n",
      "24 Interesting concept. Great scenery. Chill vibe. Awesome treehouse. Will be going back.\\n\\nCame here on a Friday night in the summer.\\n\\nIt's very neat to see what the designers were capable of doing with just your average shipping container. Each of the stores, restaurants, and bars had great facades that did not make them look as though it was a container, until you stepped inside. However, even than they were all so well put together you forgot you were even in a shipping container!\\n\\nWe watched three bands play live on the stage.  The music was good, it had us entertained throughout each of the performances (roughly 30 min each).  The grass area right in front was perfect because you got the draft from the fans/misters in each of the four corners of the lawn.  Grab some legos and those blue cushions and build yourself a chair/couch and enjoy the music!\\n\\nThe vibe was very laid back.  There were no kids when we went, all adults.  Everyone was just there to relax and enjoy the music and scenery. They have plenty of chairs, couches, tables etc. for decent sized groups.\\n\\nI highly recommend the treehouse (yes even if you're an adult) because you can never be too old to go down an awesome slide! Lots of fun!\\n\\nOverall, good time. Will definitely be going back again in the future! \n",
      "\n",
      "101 Awesome! I've only had their drip coffee. They definitely use quality beans, are quick, super friendly (which is always nice, but certainly a plus if you haven't had your morning fix) and always appreciative of even a $0.75 tip (the balance from a $2.25 large). All of his combined with the fact that they are a local buisness makes spending money on coffee vs. making it at home worth it. \n",
      "\n",
      "68 Easy walk in on a Friday night at 5pm. I just moved here from CA and I was surprised at the price of $32. Maybe I am from the land of cheap pedicures at $20. This is the first nail salon that I have ever been to that only had 5 magazines and I couldn't even find them. They were hiding under the coffee table in the front of the shop. It was a nice quiet atmosphere. \n",
      "\n",
      "Cluster: 4\n",
      "Query: If you are looking for a place where you are treated like the food they serve, Eureka! You have found it!  From the water bottles, cups, cigarette buds and make shift sign all prior to entering the restaurant, should've read the writing in the wall.  Upon entering and being sat by a pleasant host/server(highlight of the visit) the bartender who served us was cordial but I asked myself \\\"why does he get to eat prior to us?\\\" It was 12:20 in the afternoon and he and the other employee were eating while we were waiting for them to serve us the food in the window right in front of us.  I was feeling sorry for the glassware that walked by us because it was violated by the server/bartender with all of those fingers up in it.  The food, honestly why serve it?  The milkshake concoction they called refried beans accompanied by the 2 inch tortillas for $11.95.  Words of wisdom to the owner, please re-evaluate your standards from the front door to the back!  Oh yea, the hungry bartender never washed his hands after the violating of the glassware or the shoveling of the food into his face.  That and the chip cloth that comes with your chips being immediately re-used, not right at any level.\n",
      "215 I have my favorite clubs in vegas that I always go to but I try to move around to see if anything better will pop up. Prive was not one of them. The club was standard but I found that the repetitive \\\"It's VEGAS!\\\" phrase throughout the music was really annoying. I may have been inebriated, but I felt like it was played every hour. \\n\\nAlright music. Alright decor. Alright club. Nothing much else to say. \n",
      "\n",
      "181 Stopped in on a Friday nite and was waited on by a terrific new bartender, Meredith. She was very prompt and personable. The broasted chicken is so good and you can't go wrong with their hamburgers either. This is a comfortable, friendly place to go. \n",
      "\n",
      "71 Wow. Great food, service and atmosphere. Cheese plate, shorts ribs, and bread quite good. \n",
      "\n",
      "Cluster: 5\n",
      "Query: I stayed at the Luxor 6 years ago, and I do not remember it being as bad as my most recent stay.  Then again I was much younger and much more intoxicated the majority of my trip. \\n\\nMy husband and I stayed here for 2 nights at the end of our Vegas trip.  We had to switch rooms 2x's because of the shape the rooms were in.  Please note these were suites, not just regular rooms.  The furniture was damaged, couches were stained,  nonsmoking rooms smelled of cigarettes, horribly outdated, nonworking hot tubs, horrible water pressure, etc.  I could go on.  \\n\\nThe only good thing out of this hotel were the 2 free drink tickets (but not really free considering the daily resort fees) and the bell service and valet.  \\n\\nWILL NEVER STAY HERE AGAIN.\n",
      "6 First class all the way! I called for an appointment and they had me in within an hour. Dori cut my hair and did a great job!  She really knows what she is doing and cut it exactly how I requested.  I also needed a beard trim and she did a great job on that, also.  I could not have asked for a better experience and will return there when I get my next haircut.  I will also have Dori cut it.  Absolutely great!!! \n",
      "\n",
      "40 My fianc\\u00e9e had her phone and wallet stolen out of her purse while it was on her shoulder. Needless to say the manager was neither sympathetic nor helpful. If you want to get robbed, this is your place. \n",
      "\n",
      "43 Had the 1 meat plate [$10]  Brisket was fresh & amazing.  It was just thing I was craving.  My sides were the baked potato casserole & greens beans.  Friendly staff too!  Ended up getting kids sized cups for 1.50.\\n\\n[*] I let them know I had cold Brisket they were apologetic & told me they'd have fresh Brisket out for me.  Sure enough they did!  Came right out with a huge serving I took a photo of the nice portion. \n",
      "\n",
      "Cluster: 6\n",
      "Query: Food is great just wish it was bigger and you didnt have to call to make a reservation\n",
      "22 Great concept! \\n\\nDefinitely worth the try ! \n",
      "\n",
      "43 Had the 1 meat plate [$10]  Brisket was fresh & amazing.  It was just thing I was craving.  My sides were the baked potato casserole & greens beans.  Friendly staff too!  Ended up getting kids sized cups for 1.50.\\n\\n[*] I let them know I had cold Brisket they were apologetic & told me they'd have fresh Brisket out for me.  Sure enough they did!  Came right out with a huge serving I took a photo of the nice portion. \n",
      "\n",
      "68 Easy walk in on a Friday night at 5pm. I just moved here from CA and I was surprised at the price of $32. Maybe I am from the land of cheap pedicures at $20. This is the first nail salon that I have ever been to that only had 5 magazines and I couldn't even find them. They were hiding under the coffee table in the front of the shop. It was a nice quiet atmosphere. \n",
      "\n"
     ]
    }
   ],
   "source": [
    "for cluster in range(n_clusters):\n",
    "    sub_df = df_train_sub[df_train_sub['Cluster'] == cluster]\n",
    "    cluster_bm25.fit(df_train_sub[\"text\"][1:])\n",
    "    indices = cluster_bm25.transform(sub_df[\"text\"].iloc[0], sub_df[\"text\"]).argsort()[-4:][::-1]\n",
    "    print(\"Cluster:\", cluster)\n",
    "    print(\"Query:\", sub_df[\"text\"].iloc[0])\n",
    "\n",
    "    for index in indices[1:]:\n",
    "        print(index, df_train_sub[\"text\"][index], \"\\n\")"
   ]
  },
  {
   "cell_type": "code",
   "execution_count": null,
   "metadata": {},
   "outputs": [],
   "source": []
  }
 ],
 "metadata": {
  "kernelspec": {
   "display_name": "10701-env",
   "language": "python",
   "name": "python3"
  },
  "language_info": {
   "codemirror_mode": {
    "name": "ipython",
    "version": 3
   },
   "file_extension": ".py",
   "mimetype": "text/x-python",
   "name": "python",
   "nbconvert_exporter": "python",
   "pygments_lexer": "ipython3",
   "version": "3.10.14"
  }
 },
 "nbformat": 4,
 "nbformat_minor": 2
}
